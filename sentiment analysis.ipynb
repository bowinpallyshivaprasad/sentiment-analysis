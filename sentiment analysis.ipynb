{
 "cells": [
  {
   "cell_type": "code",
   "execution_count": 1,
   "metadata": {},
   "outputs": [],
   "source": [
    "from textblob import TextBlob\n",
    "import emoji"
   ]
  },
  {
   "cell_type": "code",
   "execution_count": 3,
   "metadata": {},
   "outputs": [
    {
     "name": "stdout",
     "output_type": "stream",
     "text": [
      "Enter the sentence:There has been lot of work in the field of sentiment analysis of twitter data\n",
      "Neutral 🤐\n"
     ]
    }
   ],
   "source": [
    "x = input(\"Enter the sentence:\")\n",
    "sent = TextBlob(x)\n",
    "x = sent.sentiment.polarity\n",
    "if x < 0:\n",
    "    print(\"Negative sentence\",emoji.emojize(\":disappointed_face:\"))\n",
    "elif x==0:\n",
    "    print(\"Neutral\",emoji.emojize(\":zipper-mouth_face:\"))\n",
    "elif x>0 and x<=1:\n",
    "    print(\"Happy\",emoji.emojize(\":grinning_face_with_big_eyes:\"))"
   ]
  }
 ],
 "metadata": {
  "kernelspec": {
   "display_name": "Python 3",
   "language": "python",
   "name": "python3"
  },
  "language_info": {
   "codemirror_mode": {
    "name": "ipython",
    "version": 3
   },
   "file_extension": ".py",
   "mimetype": "text/x-python",
   "name": "python",
   "nbconvert_exporter": "python",
   "pygments_lexer": "ipython3",
   "version": "3.7.3"
  }
 },
 "nbformat": 4,
 "nbformat_minor": 2
}
